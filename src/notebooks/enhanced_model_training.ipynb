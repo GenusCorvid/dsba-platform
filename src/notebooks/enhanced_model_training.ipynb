{
 "cells": [
  {
   "cell_type": "markdown",
   "metadata": {},
   "source": [
    "# Enhanced Model Training Notebook with Model Selection\n",
    "\n",
    "This notebook demonstrates an improved model training workflow that leverages multiple model types and the model selection functionality."
   ]
  },
  {
   "cell_type": "markdown",
   "metadata": {},
   "source": [
    "## Setup the environment"
   ]
  },
  {
   "cell_type": "code",
   "execution_count": 1,
   "metadata": {},
   "outputs": [
    {
     "name": "stderr",
     "output_type": "stream",
     "text": [
      "23:42:35, [INFO] Set DSBA_MODELS_ROOT_PATH to c:\\Users\\fatin\\Desktop\\Oxford App\\ESSEC\\MLOPS\\dsba-platform\\src\\models\n"
     ]
    },
    {
     "name": "stdout",
     "output_type": "stream",
     "text": [
      "Added c:\\Users\\fatin\\Desktop\\Oxford App\\ESSEC\\MLOPS\\dsba-platform\\src\\src to path\n"
     ]
    }
   ],
   "source": [
    "# Setup the environment\n",
    "import time\n",
    "import os\n",
    "import sys\n",
    "from pathlib import Path\n",
    "\n",
    "# Ensure the src directory is in the path for imports\n",
    "# Add the current directory to the path if not already there\n",
    "current_dir = Path.cwd()\n",
    "parent_dir = current_dir.parent if \"notebooks\" in str(current_dir) else current_dir\n",
    "src_dir = parent_dir / \"src\"\n",
    "if str(src_dir) not in sys.path:\n",
    "    sys.path.append(str(src_dir))\n",
    "    print(f\"Added {src_dir} to path\")\n",
    "\n",
    "# Import dotenv if available\n",
    "try:\n",
    "    from dotenv import load_dotenv\n",
    "    load_dotenv()\n",
    "except ImportError:\n",
    "    print(\"dotenv not installed, skipping...\")\n",
    "\n",
    "import logging\n",
    "logging.basicConfig(level=logging.INFO, format=\"%(asctime)s [%(levelname)s] %(message)s\", datefmt='%H:%M:%S,')\n",
    "\n",
    "# Check for environment variable\n",
    "if \"DSBA_MODELS_ROOT_PATH\" not in os.environ:\n",
    "    models_dir = parent_dir / \"models\"\n",
    "    os.environ[\"DSBA_MODELS_ROOT_PATH\"] = str(models_dir)\n",
    "    os.makedirs(models_dir, exist_ok=True)\n",
    "    logging.info(f\"Set DSBA_MODELS_ROOT_PATH to {models_dir}\")\n",
    "else:\n",
    "    logging.info(f\"Using existing DSBA_MODELS_ROOT_PATH: {os.environ['DSBA_MODELS_ROOT_PATH']}\")"
   ]
  },
  {
   "cell_type": "markdown",
   "metadata": {},
   "source": [
    "## Data Loading and Preprocessing"
   ]
  },
  {
   "cell_type": "code",
   "execution_count": 2,
   "metadata": {},
   "outputs": [
    {
     "data": {
      "text/html": [
       "<div>\n",
       "<style scoped>\n",
       "    .dataframe tbody tr th:only-of-type {\n",
       "        vertical-align: middle;\n",
       "    }\n",
       "\n",
       "    .dataframe tbody tr th {\n",
       "        vertical-align: top;\n",
       "    }\n",
       "\n",
       "    .dataframe thead th {\n",
       "        text-align: right;\n",
       "    }\n",
       "</style>\n",
       "<table border=\"1\" class=\"dataframe\">\n",
       "  <thead>\n",
       "    <tr style=\"text-align: right;\">\n",
       "      <th></th>\n",
       "      <th>PassengerId</th>\n",
       "      <th>Survived</th>\n",
       "      <th>Pclass</th>\n",
       "      <th>Name</th>\n",
       "      <th>Sex</th>\n",
       "      <th>Age</th>\n",
       "      <th>SibSp</th>\n",
       "      <th>Parch</th>\n",
       "      <th>Ticket</th>\n",
       "      <th>Fare</th>\n",
       "      <th>Cabin</th>\n",
       "      <th>Embarked</th>\n",
       "    </tr>\n",
       "  </thead>\n",
       "  <tbody>\n",
       "    <tr>\n",
       "      <th>0</th>\n",
       "      <td>1</td>\n",
       "      <td>0</td>\n",
       "      <td>3</td>\n",
       "      <td>Braund, Mr. Owen Harris</td>\n",
       "      <td>male</td>\n",
       "      <td>22.0</td>\n",
       "      <td>1</td>\n",
       "      <td>0</td>\n",
       "      <td>A/5 21171</td>\n",
       "      <td>7.2500</td>\n",
       "      <td>NaN</td>\n",
       "      <td>S</td>\n",
       "    </tr>\n",
       "    <tr>\n",
       "      <th>1</th>\n",
       "      <td>2</td>\n",
       "      <td>1</td>\n",
       "      <td>1</td>\n",
       "      <td>Cumings, Mrs. John Bradley (Florence Briggs Th...</td>\n",
       "      <td>female</td>\n",
       "      <td>38.0</td>\n",
       "      <td>1</td>\n",
       "      <td>0</td>\n",
       "      <td>PC 17599</td>\n",
       "      <td>71.2833</td>\n",
       "      <td>C85</td>\n",
       "      <td>C</td>\n",
       "    </tr>\n",
       "    <tr>\n",
       "      <th>2</th>\n",
       "      <td>3</td>\n",
       "      <td>1</td>\n",
       "      <td>3</td>\n",
       "      <td>Heikkinen, Miss. Laina</td>\n",
       "      <td>female</td>\n",
       "      <td>26.0</td>\n",
       "      <td>0</td>\n",
       "      <td>0</td>\n",
       "      <td>STON/O2. 3101282</td>\n",
       "      <td>7.9250</td>\n",
       "      <td>NaN</td>\n",
       "      <td>S</td>\n",
       "    </tr>\n",
       "    <tr>\n",
       "      <th>3</th>\n",
       "      <td>4</td>\n",
       "      <td>1</td>\n",
       "      <td>1</td>\n",
       "      <td>Futrelle, Mrs. Jacques Heath (Lily May Peel)</td>\n",
       "      <td>female</td>\n",
       "      <td>35.0</td>\n",
       "      <td>1</td>\n",
       "      <td>0</td>\n",
       "      <td>113803</td>\n",
       "      <td>53.1000</td>\n",
       "      <td>C123</td>\n",
       "      <td>S</td>\n",
       "    </tr>\n",
       "    <tr>\n",
       "      <th>4</th>\n",
       "      <td>5</td>\n",
       "      <td>0</td>\n",
       "      <td>3</td>\n",
       "      <td>Allen, Mr. William Henry</td>\n",
       "      <td>male</td>\n",
       "      <td>35.0</td>\n",
       "      <td>0</td>\n",
       "      <td>0</td>\n",
       "      <td>373450</td>\n",
       "      <td>8.0500</td>\n",
       "      <td>NaN</td>\n",
       "      <td>S</td>\n",
       "    </tr>\n",
       "  </tbody>\n",
       "</table>\n",
       "</div>"
      ],
      "text/plain": [
       "   PassengerId  Survived  Pclass  \\\n",
       "0            1         0       3   \n",
       "1            2         1       1   \n",
       "2            3         1       3   \n",
       "3            4         1       1   \n",
       "4            5         0       3   \n",
       "\n",
       "                                                Name     Sex   Age  SibSp  \\\n",
       "0                            Braund, Mr. Owen Harris    male  22.0      1   \n",
       "1  Cumings, Mrs. John Bradley (Florence Briggs Th...  female  38.0      1   \n",
       "2                             Heikkinen, Miss. Laina  female  26.0      0   \n",
       "3       Futrelle, Mrs. Jacques Heath (Lily May Peel)  female  35.0      1   \n",
       "4                           Allen, Mr. William Henry    male  35.0      0   \n",
       "\n",
       "   Parch            Ticket     Fare Cabin Embarked  \n",
       "0      0         A/5 21171   7.2500   NaN        S  \n",
       "1      0          PC 17599  71.2833   C85        C  \n",
       "2      0  STON/O2. 3101282   7.9250   NaN        S  \n",
       "3      0            113803  53.1000  C123        S  \n",
       "4      0            373450   8.0500   NaN        S  "
      ]
     },
     "execution_count": 2,
     "metadata": {},
     "output_type": "execute_result"
    }
   ],
   "source": [
    "# Data loading\n",
    "from dsba.data_ingestion import load_csv_from_url\n",
    "\n",
    "titanic_dataset_url = \"https://raw.githubusercontent.com/datasciencedojo/datasets/refs/heads/master/titanic.csv\"\n",
    "titanic = load_csv_from_url(titanic_dataset_url)\n",
    "titanic.head()"
   ]
  },
  {
   "cell_type": "code",
   "execution_count": 3,
   "metadata": {},
   "outputs": [
    {
     "name": "stdout",
     "output_type": "stream",
     "text": [
      "Training set shape: (712, 11)\n",
      "Validation set shape: (179, 12)\n"
     ]
    }
   ],
   "source": [
    "# Problem setting\n",
    "from dsba.preprocessing import split_dataframe, preprocess_dataframe, split_features_and_target\n",
    "\n",
    "# Split into training and validation sets\n",
    "titanic_train, titanic_val = split_dataframe(titanic, test_size=0.2)\n",
    "target_column = \"Survived\"\n",
    "\n",
    "# Preprocess data\n",
    "titanic_train = preprocess_dataframe(titanic_train)\n",
    "titanic_val = preprocess_dataframe(titanic_val)\n",
    "\n",
    "# Extract features and target from training data\n",
    "X_train, y_train = split_features_and_target(titanic_train, target_column)\n",
    "\n",
    "print(f\"Training set shape: {X_train.shape}\")\n",
    "print(f\"Validation set shape: {titanic_val.shape}\")"
   ]
  },
  {
   "cell_type": "markdown",
   "metadata": {},
   "source": [
    "## Create Multiple Model Candidates"
   ]
  },
  {
   "cell_type": "code",
   "execution_count": 7,
   "metadata": {},
   "outputs": [
    {
     "name": "stderr",
     "output_type": "stream",
     "text": [
      "23:42:51, [INFO] Creating model candidates...\n"
     ]
    },
    {
     "name": "stdout",
     "output_type": "stream",
     "text": [
      "Created 4 model candidates\n"
     ]
    }
   ],
   "source": [
    "# Import required libraries\n",
    "from dsba.model_selection import ModelCandidate, select_best_model, save_best_model, compare_models\n",
    "from sklearn.ensemble import RandomForestClassifier, GradientBoostingClassifier\n",
    "from sklearn.linear_model import LogisticRegression\n",
    "import xgboost as xgb\n",
    "\n",
    "# Create model candidates\n",
    "logging.info(\"Creating model candidates...\")\n",
    "model_candidates = [\n",
    "    ModelCandidate(\n",
    "        model=LogisticRegression(max_iter=1000, random_state=42),\n",
    "        name=\"Logistic Regression\",\n",
    "        hyperparameters={\"max_iter\": 1000, \"random_state\": 42}\n",
    "    ),\n",
    "    ModelCandidate(\n",
    "        model=RandomForestClassifier(n_estimators=100, random_state=42),\n",
    "        name=\"Random Forest\",\n",
    "        hyperparameters={\"n_estimators\": 100, \"random_state\": 42}\n",
    "    ),\n",
    "    ModelCandidate(\n",
    "        model=GradientBoostingClassifier(n_estimators=100, random_state=42),\n",
    "        name=\"Gradient Boosting\",\n",
    "        hyperparameters={\"n_estimators\": 100, \"random_state\": 42}\n",
    "    ),\n",
    "    ModelCandidate(\n",
    "        model=xgb.XGBClassifier(random_state=42),\n",
    "        name=\"XGBoost\",\n",
    "        hyperparameters={\"random_state\": 42}\n",
    "    )\n",
    "]\n",
    "\n",
    "print(f\"Created {len(model_candidates)} model candidates\")"
   ]
  },
  {
   "cell_type": "markdown",
   "metadata": {},
   "source": [
    "## Train All Models"
   ]
  },
  {
   "cell_type": "code",
   "execution_count": 9,
   "metadata": {},
   "outputs": [
    {
     "name": "stderr",
     "output_type": "stream",
     "text": [
      "23:42:56, [INFO] Training Logistic Regression...\n",
      "c:\\Users\\fatin\\AppData\\Local\\Programs\\Python\\Python312\\Lib\\site-packages\\sklearn\\linear_model\\_logistic.py:469: ConvergenceWarning: lbfgs failed to converge (status=1):\n",
      "STOP: TOTAL NO. of ITERATIONS REACHED LIMIT.\n",
      "\n",
      "Increase the number of iterations (max_iter) or scale the data as shown in:\n",
      "    https://scikit-learn.org/stable/modules/preprocessing.html\n",
      "Please also refer to the documentation for alternative solver options:\n",
      "    https://scikit-learn.org/stable/modules/linear_model.html#logistic-regression\n",
      "  n_iter_i = _check_optimize_result(\n",
      "23:42:56, [INFO] Training Random Forest...\n",
      "23:42:56, [INFO] Training Gradient Boosting...\n",
      "23:42:56, [INFO] Training XGBoost...\n"
     ]
    },
    {
     "name": "stdout",
     "output_type": "stream",
     "text": [
      "All models trained successfully\n"
     ]
    }
   ],
   "source": [
    "# Train all models\n",
    "for candidate in model_candidates:\n",
    "    logging.info(f\"Training {candidate.name}...\")\n",
    "    candidate.model.fit(X_train, y_train)\n",
    "\n",
    "print(\"All models trained successfully\")"
   ]
  },
  {
   "cell_type": "markdown",
   "metadata": {},
   "source": [
    "## Compare Model Performance"
   ]
  },
  {
   "cell_type": "code",
   "execution_count": 10,
   "metadata": {},
   "outputs": [
    {
     "name": "stderr",
     "output_type": "stream",
     "text": [
      "23:43:01, [INFO] Comparing models...\n"
     ]
    },
    {
     "data": {
      "text/html": [
       "<div>\n",
       "<style scoped>\n",
       "    .dataframe tbody tr th:only-of-type {\n",
       "        vertical-align: middle;\n",
       "    }\n",
       "\n",
       "    .dataframe tbody tr th {\n",
       "        vertical-align: top;\n",
       "    }\n",
       "\n",
       "    .dataframe thead th {\n",
       "        text-align: right;\n",
       "    }\n",
       "</style>\n",
       "<table border=\"1\" class=\"dataframe\">\n",
       "  <thead>\n",
       "    <tr style=\"text-align: right;\">\n",
       "      <th></th>\n",
       "      <th>Model</th>\n",
       "      <th>Accuracy</th>\n",
       "      <th>Precision</th>\n",
       "      <th>Recall</th>\n",
       "      <th>F1 Score</th>\n",
       "    </tr>\n",
       "  </thead>\n",
       "  <tbody>\n",
       "    <tr>\n",
       "      <th>0</th>\n",
       "      <td>Logistic Regression</td>\n",
       "      <td>0.798883</td>\n",
       "      <td>0.797830</td>\n",
       "      <td>0.798883</td>\n",
       "      <td>0.797427</td>\n",
       "    </tr>\n",
       "    <tr>\n",
       "      <th>1</th>\n",
       "      <td>Random Forest</td>\n",
       "      <td>0.782123</td>\n",
       "      <td>0.783736</td>\n",
       "      <td>0.782123</td>\n",
       "      <td>0.782708</td>\n",
       "    </tr>\n",
       "    <tr>\n",
       "      <th>2</th>\n",
       "      <td>Gradient Boosting</td>\n",
       "      <td>0.754190</td>\n",
       "      <td>0.755293</td>\n",
       "      <td>0.754190</td>\n",
       "      <td>0.754647</td>\n",
       "    </tr>\n",
       "    <tr>\n",
       "      <th>3</th>\n",
       "      <td>XGBoost</td>\n",
       "      <td>0.770950</td>\n",
       "      <td>0.777714</td>\n",
       "      <td>0.770950</td>\n",
       "      <td>0.772387</td>\n",
       "    </tr>\n",
       "  </tbody>\n",
       "</table>\n",
       "</div>"
      ],
      "text/plain": [
       "                 Model  Accuracy  Precision    Recall  F1 Score\n",
       "0  Logistic Regression  0.798883   0.797830  0.798883  0.797427\n",
       "1        Random Forest  0.782123   0.783736  0.782123  0.782708\n",
       "2    Gradient Boosting  0.754190   0.755293  0.754190  0.754647\n",
       "3              XGBoost  0.770950   0.777714  0.770950  0.772387"
      ]
     },
     "execution_count": 10,
     "metadata": {},
     "output_type": "execute_result"
    }
   ],
   "source": [
    "# Compare all models\n",
    "logging.info(\"Comparing models...\")\n",
    "comparison_df = compare_models(model_candidates, titanic_val, target_column)\n",
    "comparison_df"
   ]
  },
  {
   "cell_type": "markdown",
   "metadata": {},
   "source": [
    "## Visualize Model Comparison"
   ]
  },
  {
   "cell_type": "code",
   "execution_count": 11,
   "metadata": {},
   "outputs": [
    {
     "data": {
      "image/png": "[encoded data removed]",
      "text/plain": [
       "<Figure size 1200x600 with 4 Axes>"
      ]
     },
     "metadata": {},
     "output_type": "display_data"
    }
   ],
   "source": [
    "# Visualize model comparison\n",
    "import matplotlib.pyplot as plt\n",
    "import seaborn as sns\n",
    "\n",
    "plt.figure(figsize=(12, 6))\n",
    "metrics = ['Accuracy', 'Precision', 'Recall', 'F1 Score']\n",
    "\n",
    "# Plot each metric\n",
    "for i, metric in enumerate(metrics):\n",
    "    plt.subplot(1, 4, i+1)\n",
    "    sns.barplot(x='Model', y=metric, data=comparison_df)\n",
    "    plt.xticks(rotation=45, ha='right')\n",
    "    plt.title(metric)\n",
    "    plt.tight_layout()\n",
    "\n",
    "plt.suptitle('Model Comparison', y=1.05)\n",
    "plt.tight_layout()\n",
    "plt.show()"
   ]
  },
  {
   "cell_type": "markdown",
   "metadata": {},
   "source": [
    "## Select the Best Model"
   ]
  },
  {
   "cell_type": "code",
   "execution_count": 12,
   "metadata": {},
   "outputs": [
    {
     "name": "stderr",
     "output_type": "stream",
     "text": [
      "23:43:12, [INFO] Selecting the best model...\n",
      "23:43:12, [INFO] Selected Logistic Regression as the best model based on f1_score\n",
      "23:43:12, [INFO] Best model: Logistic Regression\n"
     ]
    },
    {
     "name": "stdout",
     "output_type": "stream",
     "text": [
      "Best Model: Logistic Regression\n",
      "Accuracy: 0.7989\n",
      "Precision: 0.7978\n",
      "Recall: 0.7989\n",
      "F1 Score: 0.7974\n"
     ]
    }
   ],
   "source": [
    "# Select the best model based on F1 score\n",
    "logging.info(\"Selecting the best model...\")\n",
    "best_model = select_best_model(\n",
    "    model_candidates, \n",
    "    titanic_val, \n",
    "    target_column, \n",
    "    metric=\"f1_score\"\n",
    ")\n",
    "logging.info(f\"Best model: {best_model.name}\")\n",
    "\n",
    "# Display the best model's evaluation metrics\n",
    "print(f\"Best Model: {best_model.name}\")\n",
    "print(f\"Accuracy: {best_model.evaluation_result.accuracy:.4f}\")\n",
    "print(f\"Precision: {best_model.evaluation_result.precision:.4f}\")\n",
    "print(f\"Recall: {best_model.evaluation_result.recall:.4f}\")\n",
    "print(f\"F1 Score: {best_model.evaluation_result.f1_score:.4f}\")"
   ]
  },
  {
   "cell_type": "markdown",
   "metadata": {},
   "source": [
    "## Visualize Best Model's Confusion Matrix"
   ]
  },
  {
   "cell_type": "code",
   "execution_count": 13,
   "metadata": {},
   "outputs": [
    {
     "data": {
      "image/png": "[encoded data removed]",
      "text/plain": [
       "<Figure size 600x600 with 2 Axes>"
      ]
     },
     "metadata": {},
     "output_type": "display_data"
    }
   ],
   "source": [
    "# Visualize the confusion matrix of the best model\n",
    "from dsba.model_evaluation import plot_confusion_matrix\n",
    "import matplotlib.pyplot as plt\n",
    "\n",
    "confusion_matrix_fig = plot_confusion_matrix(best_model.evaluation_result)\n",
    "plt.title(f\"Confusion Matrix - {best_model.name}\")\n",
    "plt.show()"
   ]
  },
  {
   "cell_type": "markdown",
   "metadata": {},
   "source": [
    "## Save the Best Model with Performance Metrics"
   ]
  },
  {
   "cell_type": "code",
   "execution_count": null,
   "metadata": {},
   "outputs": [
    {
     "name": "stderr",
     "output_type": "stream",
     "text": [
      "23:43:45, [INFO] Saving the best model with ID: titanic_best_20250411_2343...\n",
      "23:43:45, [INFO] Save model to path: C:\\Users\\fatin\\Desktop\\Oxford App\\ESSEC\\MLOPS\\dsba-platform\\src\\models\\titanic_best_20250411_2343.pkl\n",
      "23:43:45, [INFO] Saved best model with ID: titanic_best_20250411_2343\n"
     ]
    },
    {
     "name": "stdout",
     "output_type": "stream",
     "text": [
      "\n",
      "Saved Model Metadata:\n",
      "Model ID: titanic_best_20250411_2343\n",
      "Algorithm: Logistic Regression\n",
      "Created At: 2025-04-11 23:43:45.355663\n",
      "Performance Metrics:\n",
      "  accuracy: 0.7989\n",
      "  precision: 0.7978\n",
      "  recall: 0.7989\n",
      "  f1_score: 0.7974\n"
     ]
    }
   ],
   "source": [
    "# Save the best model with performance metrics\n",
    "from datetime import datetime\n",
    "model_id = f\"titanic_best_{datetime.now().strftime('%Y%m%d_%H%M')}\" #save model name with time\n",
    "logging.info(f\"Saving the best model with ID: {model_id}...\")\n",
    "metadata = save_best_model(\n",
    "    best_model,\n",
    "    model_id=model_id,\n",
    "    target_column=target_column,\n",
    "    algorithm=best_model.name,\n",
    "    description=f\"Best model selected from multiple candidates on {datetime.now().strftime('%Y-%m-%d')}\"\n",
    ")\n",
    "\n",
    "print(\"\\nSaved Model Metadata:\")\n",
    "print(f\"Model ID: {metadata.id}\")\n",
    "print(f\"Algorithm: {metadata.algorithm}\")\n",
    "print(f\"Created At: {metadata.created_at}\")\n",
    "print(f\"Performance Metrics:\")\n",
    "for metric, value in metadata.performance_metrics.items():\n",
    "    print(f\"  {metric}: {value:.4f}\")"
   ]
  },
  {
   "cell_type": "markdown",
   "metadata": {},
   "source": [
    "## Compare with Previously Saved Models if any exist"
   ]
  },
  {
   "cell_type": "code",
   "execution_count": 16,
   "metadata": {},
   "outputs": [
    {
     "name": "stdout",
     "output_type": "stream",
     "text": [
      "Models in registry: 1\n"
     ]
    },
    {
     "data": {
      "text/html": [
       "<div>\n",
       "<style scoped>\n",
       "    .dataframe tbody tr th:only-of-type {\n",
       "        vertical-align: middle;\n",
       "    }\n",
       "\n",
       "    .dataframe tbody tr th {\n",
       "        vertical-align: top;\n",
       "    }\n",
       "\n",
       "    .dataframe thead th {\n",
       "        text-align: right;\n",
       "    }\n",
       "</style>\n",
       "<table border=\"1\" class=\"dataframe\">\n",
       "  <thead>\n",
       "    <tr style=\"text-align: right;\">\n",
       "      <th></th>\n",
       "      <th>model_id</th>\n",
       "      <th>algorithm</th>\n",
       "      <th>created_at</th>\n",
       "      <th>accuracy</th>\n",
       "      <th>precision</th>\n",
       "      <th>recall</th>\n",
       "      <th>f1_score</th>\n",
       "    </tr>\n",
       "  </thead>\n",
       "  <tbody>\n",
       "    <tr>\n",
       "      <th>0</th>\n",
       "      <td>titanic_best_20250411_2343</td>\n",
       "      <td>Logistic Regression</td>\n",
       "      <td>2025-04-11 23:43:45.355663</td>\n",
       "      <td>0.798883</td>\n",
       "      <td>0.79783</td>\n",
       "      <td>0.798883</td>\n",
       "      <td>0.797427</td>\n",
       "    </tr>\n",
       "  </tbody>\n",
       "</table>\n",
       "</div>"
      ],
      "text/plain": [
       "                     model_id            algorithm  \\\n",
       "0  titanic_best_20250411_2343  Logistic Regression   \n",
       "\n",
       "                   created_at  accuracy  precision    recall  f1_score  \n",
       "0  2025-04-11 23:43:45.355663  0.798883    0.79783  0.798883  0.797427  "
      ]
     },
     "metadata": {},
     "output_type": "display_data"
    }
   ],
   "source": [
    "# List all models in the registry\n",
    "from dsba.model_registry import list_models_ids, load_model_metadata\n",
    "\n",
    "models = list_models_ids()\n",
    "print(f\"Models in registry: {len(models)}\")\n",
    "\n",
    "# Get metadata for all models\n",
    "model_metrics = []\n",
    "for model_id in models:\n",
    "    try:\n",
    "        metadata = load_model_metadata(model_id)\n",
    "        metrics = {\n",
    "            'model_id': model_id,\n",
    "            'algorithm': metadata.algorithm,\n",
    "            'created_at': metadata.created_at\n",
    "        }\n",
    "        \n",
    "        # Add performance metrics if available\n",
    "        if hasattr(metadata, 'performance_metrics') and metadata.performance_metrics:\n",
    "            for metric, value in metadata.performance_metrics.items():\n",
    "                metrics[metric] = value\n",
    "                \n",
    "        model_metrics.append(metrics)\n",
    "    except Exception as e:\n",
    "        print(f\"Error loading metadata for {model_id}: {e}\")\n",
    "\n",
    "# Create a DataFrame with model information\n",
    "models_df = pd.DataFrame(model_metrics)\n",
    "if not models_df.empty:\n",
    "    display(models_df.sort_values(by=\"f1_score\", ascending=False) if \"f1_score\" in models_df.columns else models_df)\n",
    "else:\n",
    "    print(\"No models found in registry or models don't have performance metrics\")"
   ]
  }
 ],
 "metadata": {
  "kernelspec": {
   "display_name": "Python 3",
   "language": "python",
   "name": "python3"
  },
  "language_info": {
   "codemirror_mode": {
    "name": "ipython",
    "version": 3
   },
   "file_extension": ".py",
   "mimetype": "text/x-python",
   "name": "python",
   "nbconvert_exporter": "python",
   "pygments_lexer": "ipython3",
   "version": "3.12.5"
  }
 },
 "nbformat": 4,
 "nbformat_minor": 4
}
